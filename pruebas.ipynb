{
 "cells": [
  {
   "cell_type": "code",
   "execution_count": 5,
   "metadata": {},
   "outputs": [
    {
     "name": "stdout",
     "output_type": "stream",
     "text": [
      "Los valores de a son: -0.176000000000000\n",
      "Los valores de a son: 1.89000000000000\n",
      "Los valores de a son: 1.04999999999999\n",
      "Los valores de a son: -1.99999999999994\n",
      "El polinomio interpolante es -1.99999999999994*x**3 + 5.24999999999987*x**2 - 2.3949999999999*x - 0.197000000000024\n",
      "Los valores de a son: -0.176000000000000\n",
      "Los valores de a son: 1.89000000000000\n",
      "Los valores de a son: 1.04999999999999\n",
      "Los valores de a son: -1.99999999999994\n"
     ]
    },
    {
     "data": {
      "text/latex": [
       "$\\displaystyle - 1.99999999999994 x^{3} + 5.24999999999987 x^{2} - 2.3949999999999 x - 0.197000000000024$"
      ],
      "text/plain": [
       "-1.99999999999994*x**3 + 5.24999999999987*x**2 - 2.3949999999999*x - 0.197000000000024"
      ]
     },
     "execution_count": 5,
     "metadata": {},
     "output_type": "execute_result"
    }
   ],
   "source": [
    "import interpolacion\n",
    "x_data=[0.6,0.7,0.8,1]\n",
    "y_data=[-0.176,0.013,0.223,0.658]\n",
    "interpolacion.newton_interpolation(x_data,y_data)"
   ]
  },
  {
   "cell_type": "code",
   "execution_count": 6,
   "metadata": {},
   "outputs": [
    {
     "name": "stdout",
     "output_type": "stream",
     "text": [
      "x**2/2 - x/2 + 2\n"
     ]
    },
    {
     "data": {
      "text/latex": [
       "$\\displaystyle - 1.99999999999994 x^{3} + 5.24999999999987 x^{2} - 2.39499999999992 x - 0.197000000000024$"
      ],
      "text/plain": [
       "-1.99999999999994*x**3 + 5.24999999999987*x**2 - 2.39499999999992*x - 0.197000000000024"
      ]
     },
     "execution_count": 6,
     "metadata": {},
     "output_type": "execute_result"
    }
   ],
   "source": [
    "import lagrange\n",
    "points=[(0.6,-0.176),(0.7,0.013),(0.8,0.223),(1,0.658)]\n",
    "lagrange.lagrange(points)"
   ]
  }
 ],
 "metadata": {
  "kernelspec": {
   "display_name": "Python 3",
   "language": "python",
   "name": "python3"
  },
  "language_info": {
   "codemirror_mode": {
    "name": "ipython",
    "version": 3
   },
   "file_extension": ".py",
   "mimetype": "text/x-python",
   "name": "python",
   "nbconvert_exporter": "python",
   "pygments_lexer": "ipython3",
   "version": "3.11.6"
  }
 },
 "nbformat": 4,
 "nbformat_minor": 2
}
